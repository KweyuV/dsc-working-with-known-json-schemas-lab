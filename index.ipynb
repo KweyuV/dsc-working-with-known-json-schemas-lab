{
 "cells": [
  {
   "cell_type": "markdown",
   "metadata": {},
   "source": [
    "# Working with Known JSON Schemas - Lab"
   ]
  },
  {
   "cell_type": "markdown",
   "metadata": {},
   "source": [
    "## Introduction\n",
    "In this lab, you'll practice working with JSON files whose schema you know beforehand."
   ]
  },
  {
   "cell_type": "markdown",
   "metadata": {},
   "source": [
    "## Objectives\n",
    "\n",
    "You will be able to:\n",
    "\n",
    "* Use the `json` module to load and parse JSON documents\n",
    "* Extract data using predefined JSON schemas\n",
    "* Convert JSON to a pandas dataframe"
   ]
  },
  {
   "cell_type": "markdown",
   "metadata": {},
   "source": [
    "## Reading a JSON Schema\n",
    "\n",
    "Here's the JSON schema provided for a section of the NY Times API:\n",
    "<img src=\"images/nytimes_movie_schema.png\" width=500>\n",
    "\n",
    "or a fully expanded view:\n",
    "\n",
    "<img src=\"images/nytimes_movie_schema_detailed.png\" width=500>\n",
    "\n",
    "You can more about the documentation [here](https://developer.nytimes.com/docs/movie-reviews-api/1/routes/reviews/%7Btype%7D.json/get).\n",
    "\n"
   ]
  },
  {
   "cell_type": "markdown",
   "metadata": {},
   "source": [
    "## Loading the JSON Data\n",
    "\n",
    "Open the JSON file located at `ny_times_movies.json`, and use the `json` module to load the data into a variable called `data`."
   ]
  },
  {
   "cell_type": "code",
   "execution_count": 21,
   "metadata": {},
   "outputs": [
    {
     "name": "stdout",
     "output_type": "stream",
     "text": [
      "{'status': 'OK', 'copyright': 'Copyright (c) 2018 The New York Times Company. All Rights Reserved.', 'has_more': True, 'num_results': 20, 'results': [{'display_title': 'Can You Ever Forgive Me', 'mpaa_rating': 'R', 'critics_pick': 1, 'byline': 'A.O. SCOTT', 'headline': 'Review: Melissa McCarthy Is Criminally Good in ‘Can You Ever Forgive Me?’', 'summary_short': 'Marielle Heller directs a true story of literary fraud, set amid the bookstores and gay bars of early ’90s Manhattan.', 'publication_date': '2018-10-16', 'opening_date': '2018-10-19', 'date_updated': '2018-10-17 02:44:23', 'link': {'type': 'article', 'url': 'http://www.nytimes.com/2018/10/16/movies/can-you-ever-forgive-me-review-melissa-mccarthy.html', 'suggested_link_text': 'Read the New York Times Review of Can You Ever Forgive Me'}, 'multimedia': {'type': 'mediumThreeByTwo210', 'src': 'https://static01.nyt.com/images/2018/10/19/arts/19CANYOUEVER-1/19CANYOUEVER-1-mediumThreeByTwo210.jpg', 'width': 210, 'height': 140}}, {'display_title': 'Charm City', 'mpaa_rating': '', 'critics_pick': 1, 'byline': 'BEN KENIGSBERG', 'headline': 'Review: ‘Charm City’ Vividly Captures the Streets of Baltimore', 'summary_short': 'Marilyn Ness’s documentary is dedicated to the memory of the more than 1,000 people said to be killed in Baltimore during the film’s making.', 'publication_date': '2018-10-16', 'opening_date': '2018-04-22', 'date_updated': '2018-10-16 11:04:03', 'link': {'type': 'article', 'url': 'http://www.nytimes.com/2018/10/16/movies/charm-city-review-baltimore.html', 'suggested_link_text': 'Read the New York Times Review of Charm City'}, 'multimedia': {'type': 'mediumThreeByTwo210', 'src': 'https://static01.nyt.com/images/2018/10/17/arts/17charmcity/17charmcity-mediumThreeByTwo210.jpg', 'width': 210, 'height': 140}}, {'display_title': 'Horn from the Heart: The Paul Butterfield Story', 'mpaa_rating': '', 'critics_pick': 1, 'byline': 'GLENN KENNY', 'headline': 'Review: Paul Butterfield’s Story Is Told in ‘Horn From the Heart’', 'summary_short': 'A documentary explores the life of the blues musician who was prominent in the 1960s and ’70s.', 'publication_date': '2018-10-16', 'opening_date': '2018-10-19', 'date_updated': '2018-10-16 11:04:04', 'link': {'type': 'article', 'url': 'http://www.nytimes.com/2018/10/16/movies/horn-from-the-heart-review-paul-butterfield.html', 'suggested_link_text': 'Read the New York Times Review of Horn from the Heart: The Paul Butterfield Story'}, 'multimedia': {'type': 'mediumThreeByTwo210', 'src': 'https://static01.nyt.com/images/2018/10/17/arts/17hornfromtheheart/17hornfromtheheart-mediumThreeByTwo210.jpg', 'width': 210, 'height': 140}}, {'display_title': 'The Price of Everything', 'mpaa_rating': '', 'critics_pick': 0, 'byline': 'A.O. SCOTT', 'headline': 'Review: ‘The Price of Everything’ Asks $56 Billion Questions About Art', 'summary_short': 'This documentary examines the global art market, and pauses to look at some pictures along the way.', 'publication_date': '2018-10-16', 'opening_date': '2018-10-19', 'date_updated': '2018-10-16 16:08:03', 'link': {'type': 'article', 'url': 'http://www.nytimes.com/2018/10/16/movies/the-price-of-everything-review-documentary.html', 'suggested_link_text': 'Read the New York Times Review of The Price of Everything'}, 'multimedia': {'type': 'mediumThreeByTwo210', 'src': 'https://static01.nyt.com/images/2018/10/19/arts/19priceofeverything/19priceofeverything-mediumThreeByTwo210.jpg', 'width': 210, 'height': 140}}, {'display_title': 'Impulso', 'mpaa_rating': '', 'critics_pick': 0, 'byline': 'BEN KENIGSBERG', 'headline': 'Review: ‘Impulso’ Goes Backstage With a Flamenco Innovator', 'summary_short': 'This documentary follows Rocío Molina, a cutting-edge dancer, as she prepares for a Paris show.', 'publication_date': '2018-10-16', 'opening_date': None, 'date_updated': '2018-10-16 11:04:03', 'link': {'type': 'article', 'url': 'http://www.nytimes.com/2018/10/16/movies/impulso-review-documentary.html', 'suggested_link_text': 'Read the New York Times Review of Impulso'}, 'multimedia': {'type': 'mediumThreeByTwo210', 'src': 'https://static01.nyt.com/images/2018/10/17/arts/17impulso/17impulso-mediumThreeByTwo210.jpg', 'width': 210, 'height': 140}}, {'display_title': 'Watergate', 'mpaa_rating': '', 'critics_pick': 1, 'byline': 'A.O. SCOTT', 'headline': 'Review: ‘Watergate’ Shocks Anew With Its True Tale of Political Scandal', 'summary_short': 'Charles Ferguson delivers a comprehensive documentary about the not-so-distant past, with its eye very much on the present.', 'publication_date': '2018-10-11', 'opening_date': '2018-10-12', 'date_updated': '2018-10-17 02:44:21', 'link': {'type': 'article', 'url': 'http://www.nytimes.com/2018/10/11/movies/watergate-review-documentary.html', 'suggested_link_text': 'Read the New York Times Review of Watergate'}, 'multimedia': {'type': 'mediumThreeByTwo210', 'src': 'https://static01.nyt.com/images/2018/10/12/arts/12watergate/12watergate-mediumThreeByTwo210-v3.jpg', 'width': 210, 'height': 140}}, {'display_title': 'Barbara', 'mpaa_rating': '', 'critics_pick': 1, 'byline': 'GLENN KENNY', 'headline': 'Review: In ‘Barbara,’ a Fictional Biopic of a French Chanteuse', 'summary_short': 'It’s a film of scenes rather than of one unified narrative, but each scene is a showcase for the magnificent talents of its star.', 'publication_date': '2018-10-11', 'opening_date': None, 'date_updated': '2018-10-17 02:44:21', 'link': {'type': 'article', 'url': 'http://www.nytimes.com/2018/10/11/movies/barbara-review.html', 'suggested_link_text': 'Read the New York Times Review of Barbara'}, 'multimedia': {'type': 'mediumThreeByTwo210', 'src': 'https://static01.nyt.com/images/2018/10/12/arts/12barbara/merlin_144926925_2fb5b176-1b74-4549-9be7-251a1f04323d-mediumThreeByTwo210.jpg', 'width': 210, 'height': 140}}, {'display_title': 'Over the Limit', 'mpaa_rating': '', 'critics_pick': 1, 'byline': 'JEANNETTE CATSOULIS', 'headline': 'Review: A Russian Gymnast Goes ‘Over the Limit’', 'summary_short': 'Margarita Mamun endures injury and abuse in Marta Prus’s brilliantly constructed documentary.', 'publication_date': '2018-10-11', 'opening_date': '2018-10-05', 'date_updated': '2018-10-17 02:44:20', 'link': {'type': 'article', 'url': 'http://www.nytimes.com/2018/10/11/movies/over-the-limit-review.html', 'suggested_link_text': 'Read the New York Times Review of Over the Limit'}, 'multimedia': {'type': 'mediumThreeByTwo210', 'src': 'https://static01.nyt.com/images/2018/10/12/arts/12over1/12over1-mediumThreeByTwo210-v2.jpg', 'width': 210, 'height': 140}}, {'display_title': 'The Kindergarten Teacher', 'mpaa_rating': 'R', 'critics_pick': 1, 'byline': 'JEANNETTE CATSOULIS', 'headline': 'Review: The Disturbing Obsession of ‘The Kindergarten Teacher’', 'summary_short': 'Maggie Gyllenhaal is riveting as a dissatisfied teacher who’s obsessed with her 5-year-old pupil’s poetic talent.', 'publication_date': '2018-10-11', 'opening_date': '2018-10-12', 'date_updated': '2018-10-17 02:44:19', 'link': {'type': 'article', 'url': 'http://www.nytimes.com/2018/10/11/movies/the-kindergarten-teacher-review.html', 'suggested_link_text': 'Read the New York Times Review of The Kindergarten Teacher'}, 'multimedia': {'type': 'mediumThreeByTwo210', 'src': 'https://static01.nyt.com/images/2018/10/12/arts/12kindergarten1/kindergarten1-mediumThreeByTwo210.jpg', 'width': 210, 'height': 140}}, {'display_title': 'Classical Period', 'mpaa_rating': '', 'critics_pick': 1, 'byline': 'BEN KENIGSBERG', 'headline': 'Review: In ‘Classical Period,’ a Deep Dive — Really Deep — Into Dante', 'summary_short': 'This highly original feature is technically in English, but it might as well be in liberal-arts-speak.', 'publication_date': '2018-10-11', 'opening_date': None, 'date_updated': '2018-10-17 02:44:18', 'link': {'type': 'article', 'url': 'http://www.nytimes.com/2018/10/11/movies/classical-period-review.html', 'suggested_link_text': 'Read the New York Times Review of Classical Period'}, 'multimedia': {'type': 'mediumThreeByTwo210', 'src': 'https://static01.nyt.com/images/2018/10/10/arts/classical1/classical1-mediumThreeByTwo210.jpg', 'width': 210, 'height': 140}}, {'display_title': 'Bad Times at the El Royale', 'mpaa_rating': 'R', 'critics_pick': 0, 'byline': 'MANOHLA DARGIS', 'headline': 'Review: Hard-Boiled Play in ‘Bad Times at the El Royale’', 'summary_short': 'The writer-director Drew Goddard has fun with genre and a cast that includes Jeff Bridges, Dakota Johnson, Jon Hamm, Cynthia Erivo and Chris Hemsworth.', 'publication_date': '2018-10-11', 'opening_date': '2018-10-12', 'date_updated': '2018-10-17 02:44:22', 'link': {'type': 'article', 'url': 'http://www.nytimes.com/2018/10/11/movies/bad-times-at-the-el-royale-review.html', 'suggested_link_text': 'Read the New York Times Review of Bad Times at the El Royale'}, 'multimedia': {'type': 'mediumThreeByTwo210', 'src': 'https://static01.nyt.com/images/2018/10/12/arts/12badtimes-1/merlin_144926712_c4da8d26-b8af-4e7b-b65d-75e7ae46f296-mediumThreeByTwo210.jpg', 'width': 210, 'height': 140}}, {'display_title': 'Beautiful Boy', 'mpaa_rating': 'R', 'critics_pick': 0, 'byline': 'A.O. SCOTT', 'headline': 'Review: In ‘Beautiful Boy,’ a Writer Confronts His Son’s Meth Addiction', 'summary_short': 'Two memoirs are brought to the screen in a father-son drama starring Steve Carell and Timothée Chalamet.', 'publication_date': '2018-10-11', 'opening_date': '2018-10-12', 'date_updated': '2018-10-17 02:44:21', 'link': {'type': 'article', 'url': 'http://www.nytimes.com/2018/10/11/movies/beautiful-boy-review-steve-carell.html', 'suggested_link_text': 'Read the New York Times Review of Beautiful Boy'}, 'multimedia': {'type': 'mediumThreeByTwo210', 'src': 'https://static01.nyt.com/images/2018/10/12/arts/12beautifulboy/merlin_144926952_7ed013e2-cd6b-44c0-9431-dc59fc305700-mediumThreeByTwo210.jpg', 'width': 210, 'height': 140}}, {'display_title': 'The Oath', 'mpaa_rating': 'R', 'critics_pick': 0, 'byline': 'GLENN KENNY', 'headline': 'Review: In ‘The Oath,’ a Pledge of Allegiance to a President Creates Chasms', 'summary_short': 'This satirical comedy, written, directed by and starring Ike Barinholtz, turns dark and ham-handed.', 'publication_date': '2018-10-11', 'opening_date': '2018-10-12', 'date_updated': '2018-10-17 02:44:21', 'link': {'type': 'article', 'url': 'http://www.nytimes.com/2018/10/11/movies/the-oath-review-tiffany-haddish.html', 'suggested_link_text': 'Read the New York Times Review of The Oath'}, 'multimedia': {'type': 'mediumThreeByTwo210', 'src': 'https://static01.nyt.com/images/2018/10/12/arts/12theoath/12theoath-mediumThreeByTwo210-v2.jpg', 'width': 210, 'height': 140}}, {'display_title': 'Bikini Moon', 'mpaa_rating': '', 'critics_pick': 0, 'byline': 'KEN JAWOROWSKI', 'headline': 'Review: ‘Bikini Moon’ Finds a Documentary Crew Under Its Subject’s Spell', 'summary_short': 'Condola Rashad plays the title character, a homeless women who manipulates, and is manipulated by, filmmakers who soon have their own problems.', 'publication_date': '2018-10-11', 'opening_date': '2018-10-12', 'date_updated': '2018-10-17 02:44:20', 'link': {'type': 'article', 'url': 'http://www.nytimes.com/2018/10/11/movies/bikini-moon-review.html', 'suggested_link_text': 'Read the New York Times Review of Bikini Moon'}, 'multimedia': {'type': 'mediumThreeByTwo210', 'src': 'https://static01.nyt.com/images/2018/10/12/arts/12bikini1/12bikini1-mediumThreeByTwo210-v4.jpg', 'width': 210, 'height': 140}}, {'display_title': 'Goosebumps 2: Haunted Halloween', 'mpaa_rating': 'PG', 'critics_pick': 0, 'byline': 'TEO BUGBEE', 'headline': 'Review: ‘Goosebumps 2: Haunted Halloween’ Is Toothless Terror', 'summary_short': 'This sequel to the movie adaptation of R.L. Stine’s horror series is more goofy than scary.', 'publication_date': '2018-10-11', 'opening_date': '2018-10-12', 'date_updated': '2018-10-17 02:44:20', 'link': {'type': 'article', 'url': 'http://www.nytimes.com/2018/10/11/movies/goosebumps-2-haunted-halloween-review.html', 'suggested_link_text': 'Read the New York Times Review of Goosebumps 2: Haunted Halloween'}, 'multimedia': {'type': 'mediumThreeByTwo210', 'src': 'https://static01.nyt.com/images/2018/10/12/arts/12goosebumps/merlin_144927237_ce38ea83-4672-4382-8c4d-e6c80325379c-mediumThreeByTwo210.jpg', 'width': 210, 'height': 140}}, {'display_title': 'The Sentence', 'mpaa_rating': '', 'critics_pick': 0, 'byline': 'KEN JAWOROWSKI', 'headline': 'Review: In ‘The Sentence,’ a Woman Gets Prison, Her Family Also Pays', 'summary_short': 'The documentary denounces minimum sentencing laws that put Cindy Shank behind bars.', 'publication_date': '2018-10-11', 'opening_date': '2018-10-12', 'date_updated': '2018-10-17 02:44:19', 'link': {'type': 'article', 'url': 'http://www.nytimes.com/2018/10/11/movies/the-sentence-review.html', 'suggested_link_text': 'Read the New York Times Review of The Sentence'}, 'multimedia': {'type': 'mediumThreeByTwo210', 'src': 'https://static01.nyt.com/images/2018/10/09/arts/thesentence1/thesentence1-mediumThreeByTwo210.jpg', 'width': 210, 'height': 140}}, {'display_title': 'All Square', 'mpaa_rating': '', 'critics_pick': 0, 'byline': 'GLENN KENNY', 'headline': 'Review: In ‘All Square,’ Taking Big Bets on Youth Baseball', 'summary_short': 'Michael Kelly, Pamela Adlon and Josh Lucas enhance the small-town bookmaking shenanigans of this comedy-drama.', 'publication_date': '2018-10-11', 'opening_date': None, 'date_updated': '2018-10-11 11:04:11', 'link': {'type': 'article', 'url': 'http://www.nytimes.com/2018/10/11/movies/all-square-review.html', 'suggested_link_text': 'Read the New York Times Review of All Square'}, 'multimedia': {'type': 'mediumThreeByTwo210', 'src': 'https://static01.nyt.com/images/2018/10/12/arts/12allsquare/12allsquare-mediumThreeByTwo210-v2.jpg', 'width': 210, 'height': 140}}, {'display_title': 'Sadie', 'mpaa_rating': '', 'critics_pick': 0, 'byline': 'KEN JAWOROWSKI', 'headline': 'Review: The Drama ‘Sadie’ Finds a Teenager in a Tough Situation', 'summary_short': 'The film stars Sophia Mitri Schloss as the title character, a 13-year-old girl who grows angry at the men who are courting her mother.', 'publication_date': '2018-10-11', 'opening_date': '2018-10-12', 'date_updated': '2018-10-11 11:04:07', 'link': {'type': 'article', 'url': 'http://www.nytimes.com/2018/10/11/movies/sadie-review.html', 'suggested_link_text': 'Read the New York Times Review of Sadie'}, 'multimedia': {'type': 'mediumThreeByTwo210', 'src': 'https://static01.nyt.com/images/2018/10/12/arts/12sadie1/sadie1-mediumThreeByTwo210.jpg', 'width': 210, 'height': 140}}, {'display_title': 'After Everything', 'mpaa_rating': '', 'critics_pick': 0, 'byline': 'TEO BUGBEE', 'headline': 'Review: In ‘After Everything,’ a Young Love Blooms in Crisis', 'summary_short': 'This cancer drama focuses less on the high stakes of illness than on how two young people talk to each other in sickness and in health.', 'publication_date': '2018-10-11', 'opening_date': '2018-10-12', 'date_updated': '2018-10-17 02:44:18', 'link': {'type': 'article', 'url': 'http://www.nytimes.com/2018/10/11/movies/after-everything-review.html', 'suggested_link_text': 'Read the New York Times Review of After Everything'}, 'multimedia': {'type': 'mediumThreeByTwo210', 'src': 'https://static01.nyt.com/images/2018/10/12/arts/12aftereverything/12aftereverything-mediumThreeByTwo210.jpg', 'width': 210, 'height': 140}}, {'display_title': 'First Man', 'mpaa_rating': 'PG-13', 'critics_pick': 0, 'byline': 'A.O. SCOTT', 'headline': 'Review: ‘First Man’ Takes a Giant Leap for Man, a Smaller Step for Movies', 'summary_short': 'Damien Chazelle’s sweeping and intimate yet underwhelming film revisits the first lunar landing, with Ryan Gosling as Neil Armstrong.', 'publication_date': '2018-10-10', 'opening_date': '2018-10-12', 'date_updated': '2018-10-17 02:44:18', 'link': {'type': 'article', 'url': 'http://www.nytimes.com/2018/10/10/movies/first-man-review-ryan-gosling-damien-chazelle.html', 'suggested_link_text': 'Read the New York Times Review of First Man'}, 'multimedia': {'type': 'mediumThreeByTwo210', 'src': 'https://static01.nyt.com/images/2018/10/12/arts/12FIRSTMAN-1/merlin_144926997_3122f50f-2561-4ea3-918c-f6911d00c31f-mediumThreeByTwo210.jpg', 'width': 210, 'height': 140}}]}\n"
     ]
    }
   ],
   "source": [
    "import json\n",
    "with open('ny_times_movies.json') as file:\n",
    "    data = json.load(file)\n",
    "print(data)"
   ]
  },
  {
   "cell_type": "markdown",
   "metadata": {},
   "source": [
    "Run the code below to investigate its contents:"
   ]
  },
  {
   "cell_type": "code",
   "execution_count": 22,
   "metadata": {},
   "outputs": [
    {
     "name": "stdout",
     "output_type": "stream",
     "text": [
      "`data` has type <class 'dict'>\n",
      "The keys are ['status', 'copyright', 'has_more', 'num_results', 'results']\n"
     ]
    }
   ],
   "source": [
    "# Run this cell without changes\n",
    "print(\"`data` has type\", type(data))\n",
    "print(\"The keys are\", list(data.keys()))"
   ]
  },
  {
   "cell_type": "markdown",
   "metadata": {},
   "source": [
    "## Loading Results\n",
    "\n",
    "Create a variable `results` that contains the value associated with the `'results'` key."
   ]
  },
  {
   "cell_type": "code",
   "execution_count": 23,
   "metadata": {},
   "outputs": [
    {
     "data": {
      "text/plain": [
       "0    results\n",
       "dtype: object"
      ]
     },
     "execution_count": 23,
     "metadata": {},
     "output_type": "execute_result"
    }
   ],
   "source": [
    "import pandas as pd\n",
    "results = pd.Series('results')\n",
    "results"
   ]
  },
  {
   "cell_type": "markdown",
   "metadata": {},
   "source": [
    "Below we display this variable as a table using pandas:"
   ]
  },
  {
   "cell_type": "code",
   "execution_count": 24,
   "metadata": {},
   "outputs": [
    {
     "data": {
      "text/html": [
       "<div>\n",
       "<style scoped>\n",
       "    .dataframe tbody tr th:only-of-type {\n",
       "        vertical-align: middle;\n",
       "    }\n",
       "\n",
       "    .dataframe tbody tr th {\n",
       "        vertical-align: top;\n",
       "    }\n",
       "\n",
       "    .dataframe thead th {\n",
       "        text-align: right;\n",
       "    }\n",
       "</style>\n",
       "<table border=\"1\" class=\"dataframe\">\n",
       "  <thead>\n",
       "    <tr style=\"text-align: right;\">\n",
       "      <th></th>\n",
       "      <th>0</th>\n",
       "    </tr>\n",
       "  </thead>\n",
       "  <tbody>\n",
       "    <tr>\n",
       "      <th>0</th>\n",
       "      <td>results</td>\n",
       "    </tr>\n",
       "  </tbody>\n",
       "</table>\n",
       "</div>"
      ],
      "text/plain": [
       "         0\n",
       "0  results"
      ]
     },
     "execution_count": 24,
     "metadata": {},
     "output_type": "execute_result"
    }
   ],
   "source": [
    "# Run this cell without changes\n",
    "import pandas as pd\n",
    "df = pd.DataFrame(results)\n",
    "df"
   ]
  },
  {
   "cell_type": "markdown",
   "metadata": {},
   "source": [
    "## Data Analysis\n",
    "\n",
    "Now that you have a general sense of the data, answer some questions about it.\n",
    "\n",
    "### How many results are in the file?\n",
    "\n",
    "The metadata says this:"
   ]
  },
  {
   "cell_type": "code",
   "execution_count": 25,
   "metadata": {},
   "outputs": [
    {
     "data": {
      "text/plain": [
       "20"
      ]
     },
     "execution_count": 25,
     "metadata": {},
     "output_type": "execute_result"
    }
   ],
   "source": [
    "# Run this cell without changes\n",
    "data['num_results']"
   ]
  },
  {
   "cell_type": "markdown",
   "metadata": {},
   "source": [
    "Double-check that by looking at `results`. Does it line up?"
   ]
  },
  {
   "cell_type": "code",
   "execution_count": 26,
   "metadata": {},
   "outputs": [
    {
     "data": {
      "text/plain": [
       "0    results\n",
       "dtype: object"
      ]
     },
     "execution_count": 26,
     "metadata": {},
     "output_type": "execute_result"
    }
   ],
   "source": [
    "results"
   ]
  },
  {
   "cell_type": "markdown",
   "metadata": {},
   "source": [
    "### How many unique critics are there?\n",
    "\n",
    "A critic's name can be identified using the `'byline'` key. Assign your answer to the variable `unique_critics`."
   ]
  },
  {
   "cell_type": "code",
   "execution_count": 28,
   "metadata": {},
   "outputs": [
    {
     "ename": "TypeError",
     "evalue": "string indices must be integers",
     "output_type": "error",
     "traceback": [
      "\u001b[1;31m---------------------------------------------------------------------------\u001b[0m",
      "\u001b[1;31mTypeError\u001b[0m                                 Traceback (most recent call last)",
      "\u001b[1;32m<ipython-input-28-51607df2da06>\u001b[0m in \u001b[0;36m<module>\u001b[1;34m\u001b[0m\n\u001b[1;32m----> 1\u001b[1;33m \u001b[0munique_critics\u001b[0m \u001b[1;33m=\u001b[0m \u001b[0mlen\u001b[0m\u001b[1;33m(\u001b[0m\u001b[1;33m{\u001b[0m\u001b[0mreview\u001b[0m\u001b[1;33m[\u001b[0m\u001b[1;34m'byline'\u001b[0m\u001b[1;33m]\u001b[0m \u001b[1;32mfor\u001b[0m \u001b[0mreview\u001b[0m \u001b[1;32min\u001b[0m \u001b[0mdata\u001b[0m\u001b[1;33m}\u001b[0m\u001b[1;33m)\u001b[0m\u001b[1;33m\u001b[0m\u001b[1;33m\u001b[0m\u001b[0m\n\u001b[0m\u001b[0;32m      2\u001b[0m \u001b[0munique_critics\u001b[0m\u001b[1;33m\u001b[0m\u001b[1;33m\u001b[0m\u001b[0m\n",
      "\u001b[1;32m<ipython-input-28-51607df2da06>\u001b[0m in \u001b[0;36m<setcomp>\u001b[1;34m(.0)\u001b[0m\n\u001b[1;32m----> 1\u001b[1;33m \u001b[0munique_critics\u001b[0m \u001b[1;33m=\u001b[0m \u001b[0mlen\u001b[0m\u001b[1;33m(\u001b[0m\u001b[1;33m{\u001b[0m\u001b[0mreview\u001b[0m\u001b[1;33m[\u001b[0m\u001b[1;34m'byline'\u001b[0m\u001b[1;33m]\u001b[0m \u001b[1;32mfor\u001b[0m \u001b[0mreview\u001b[0m \u001b[1;32min\u001b[0m \u001b[0mdata\u001b[0m\u001b[1;33m}\u001b[0m\u001b[1;33m)\u001b[0m\u001b[1;33m\u001b[0m\u001b[1;33m\u001b[0m\u001b[0m\n\u001b[0m\u001b[0;32m      2\u001b[0m \u001b[0munique_critics\u001b[0m\u001b[1;33m\u001b[0m\u001b[1;33m\u001b[0m\u001b[0m\n",
      "\u001b[1;31mTypeError\u001b[0m: string indices must be integers"
     ]
    }
   ],
   "source": [
    "unique_critics = len({review['byline'] for review in data})\n",
    "unique_critics"
   ]
  },
  {
   "cell_type": "markdown",
   "metadata": {},
   "source": [
    "This code checks your answer."
   ]
  },
  {
   "cell_type": "code",
   "execution_count": 19,
   "metadata": {},
   "outputs": [
    {
     "ename": "NameError",
     "evalue": "name 'unique_critics' is not defined",
     "output_type": "error",
     "traceback": [
      "\u001b[1;31m---------------------------------------------------------------------------\u001b[0m",
      "\u001b[1;31mNameError\u001b[0m                                 Traceback (most recent call last)",
      "\u001b[1;32m<ipython-input-19-a2027a439584>\u001b[0m in \u001b[0;36m<module>\u001b[1;34m\u001b[0m\n\u001b[0;32m      1\u001b[0m \u001b[1;31m# Run this cell without changes\u001b[0m\u001b[1;33m\u001b[0m\u001b[1;33m\u001b[0m\u001b[1;33m\u001b[0m\u001b[0m\n\u001b[1;32m----> 2\u001b[1;33m \u001b[1;32massert\u001b[0m \u001b[0munique_critics\u001b[0m \u001b[1;33m==\u001b[0m \u001b[1;36m7\u001b[0m\u001b[1;33m\u001b[0m\u001b[1;33m\u001b[0m\u001b[0m\n\u001b[0m",
      "\u001b[1;31mNameError\u001b[0m: name 'unique_critics' is not defined"
     ]
    }
   ],
   "source": [
    "# Run this cell without changes\n",
    "assert unique_critics == 7"
   ]
  },
  {
   "cell_type": "markdown",
   "metadata": {},
   "source": [
    "## Flattening Data\n",
    "\n",
    "Create a list `review_urls` that contains the URL for each review. This can be found using the `'url'` key nested under `'link'`."
   ]
  },
  {
   "cell_type": "code",
   "execution_count": null,
   "metadata": {},
   "outputs": [],
   "source": [
    "# Your code here (create more cells as needed)"
   ]
  },
  {
   "cell_type": "markdown",
   "metadata": {},
   "source": [
    "The following code will check your answer:"
   ]
  },
  {
   "cell_type": "code",
   "execution_count": null,
   "metadata": {},
   "outputs": [],
   "source": [
    "# Run this cell without changes\n",
    "\n",
    "# review_urls should be a list\n",
    "assert type(review_urls) == list\n",
    "\n",
    "# The length should be 20, same as the length of reviews\n",
    "assert len(review_urls) == 20\n",
    "\n",
    "# The data type contained should be string\n",
    "assert type(review_urls[0]) == str and type(review_urls[-1]) == str\n",
    "\n",
    "# Spot checking a specific value\n",
    "assert review_urls[6] == 'http://www.nytimes.com/2018/10/11/movies/barbara-review.html'"
   ]
  },
  {
   "cell_type": "markdown",
   "metadata": {},
   "source": [
    "## Summary\n",
    "In this lab you practiced extracting and transforming data from JSON files with known schemas."
   ]
  }
 ],
 "metadata": {
  "kernelspec": {
   "display_name": "learn-env",
   "language": "python",
   "name": "python3"
  },
  "language_info": {
   "codemirror_mode": {
    "name": "ipython",
    "version": 3
   },
   "file_extension": ".py",
   "mimetype": "text/x-python",
   "name": "python",
   "nbconvert_exporter": "python",
   "pygments_lexer": "ipython3",
   "version": "3.8.5"
  },
  "toc": {
   "base_numbering": 1,
   "nav_menu": {},
   "number_sections": true,
   "sideBar": true,
   "skip_h1_title": false,
   "title_cell": "Table of Contents",
   "title_sidebar": "Contents",
   "toc_cell": false,
   "toc_position": {},
   "toc_section_display": true,
   "toc_window_display": false
  }
 },
 "nbformat": 4,
 "nbformat_minor": 2
}
